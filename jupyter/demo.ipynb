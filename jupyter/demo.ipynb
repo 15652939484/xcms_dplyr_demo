{
 "cells": [
  {
   "cell_type": "markdown",
   "metadata": {},
   "source": [
    "# Overview\n",
    "\n",
    "This notebook illustrates how to analyze `.csv` files, such as those output by `xcms`, in R.\n",
    "\n",
    "# Goals\n",
    "\n",
    "- gain familiarity with R (and by extension, xcms) syntax\n",
    "- learn common manipulations e.g. reading, sorting, filtering, reshaping, writing) for \"spreadsheet\"-like data\n",
    "- gain familiarity with popular R data analysis packages\n",
    "- learn the benefits of separating data and code\n",
    "\n",
    "\n",
    "# Requirements\n",
    "\n",
    "* R installation\n",
    "* Jupyter and IRkernel installation (if using .ipynb format, otherwise you can use the R script generated from the .ipynb file)\n",
    "* various Hadleyverse packages."
   ]
  },
  {
   "cell_type": "code",
   "execution_count": null,
   "metadata": {
    "collapsed": true
   },
   "outputs": [],
   "source": [
    "require(tidyr)\n",
    "require(dlyr)\n",
    "require(ggplot2)"
   ]
  },
  {
   "cell_type": "code",
   "execution_count": null,
   "metadata": {
    "collapsed": true
   },
   "outputs": [],
   "source": []
  }
 ],
 "metadata": {
  "kernelspec": {
   "display_name": "R",
   "language": "R",
   "name": "ir"
  }
 },
 "nbformat": 4,
 "nbformat_minor": 0
}
